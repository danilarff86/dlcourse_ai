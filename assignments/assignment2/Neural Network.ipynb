{
 "cells": [
  {
   "cell_type": "markdown",
   "metadata": {},
   "source": [
    "# Задание 2.1 - Нейронные сети\n",
    "\n",
    "В этом задании вы реализуете и натренируете настоящую нейроную сеть своими руками!\n",
    "\n",
    "В некотором смысле это будет расширением прошлого задания - нам нужно просто составить несколько линейных классификаторов вместе!\n",
    "\n",
    "<img src=\"https://i.redd.it/n9fgba8b0qr01.png\" alt=\"Stack_more_layers\" width=\"400px\"/>"
   ]
  },
  {
   "cell_type": "code",
   "execution_count": 1,
   "metadata": {},
   "outputs": [],
   "source": [
    "import numpy as np\n",
    "import matplotlib.pyplot as plt\n",
    "\n",
    "%matplotlib inline\n",
    "\n",
    "%load_ext autoreload\n",
    "%autoreload 2"
   ]
  },
  {
   "cell_type": "code",
   "execution_count": 2,
   "metadata": {},
   "outputs": [],
   "source": [
    "from dataset import load_svhn, random_split_train_val\n",
    "from gradient_check import check_layer_gradient, check_layer_param_gradient, check_model_gradient\n",
    "from layers import FullyConnectedLayer, ReLULayer\n",
    "from model import TwoLayerNet\n",
    "from trainer import Trainer, Dataset\n",
    "from optim import SGD, MomentumSGD\n",
    "from metrics import multiclass_accuracy"
   ]
  },
  {
   "cell_type": "markdown",
   "metadata": {},
   "source": [
    "# Загружаем данные\n",
    "\n",
    "И разделяем их на training и validation."
   ]
  },
  {
   "cell_type": "code",
   "execution_count": 3,
   "metadata": {},
   "outputs": [],
   "source": [
    "def prepare_for_neural_network(train_X, test_X):\n",
    "    train_flat = train_X.reshape(train_X.shape[0], -1).astype(np.float) / 255.0\n",
    "    test_flat = test_X.reshape(test_X.shape[0], -1).astype(np.float) / 255.0\n",
    "    \n",
    "    # Subtract mean\n",
    "    mean_image = np.mean(train_flat, axis = 0)\n",
    "    train_flat -= mean_image\n",
    "    test_flat -= mean_image\n",
    "    \n",
    "    return train_flat, test_flat\n",
    "    \n",
    "train_X, train_y, test_X, test_y = load_svhn(\"data\", max_train=10000, max_test=1000)    \n",
    "train_X, test_X = prepare_for_neural_network(train_X, test_X)\n",
    "# Split train into train and val\n",
    "train_X, train_y, val_X, val_y = random_split_train_val(train_X, train_y, num_val = 1000)"
   ]
  },
  {
   "cell_type": "markdown",
   "metadata": {},
   "source": [
    "# Как всегда, начинаем с кирпичиков\n",
    "\n",
    "Мы будем реализовывать необходимые нам слои по очереди. Каждый слой должен реализовать:\n",
    "- прямой проход (forward pass), который генерирует выход слоя по входу и запоминает необходимые данные\n",
    "- обратный проход (backward pass), который получает градиент по выходу слоя и вычисляет градиент по входу и по параметрам\n",
    "\n",
    "Начнем с ReLU, у которого параметров нет."
   ]
  },
  {
   "cell_type": "code",
   "execution_count": null,
   "metadata": {
    "scrolled": false
   },
   "outputs": [],
   "source": [
    "# TODO: Implement ReLULayer layer in layers.py\n",
    "# Note: you'll need to copy implementation of the gradient_check function from the previous assignment\n",
    "\n",
    "X = np.array([[1,-2,3],\n",
    "              [-1, 2, 0.1]\n",
    "              ])\n",
    "\n",
    "assert check_layer_gradient(ReLULayer(), X)"
   ]
  },
  {
   "cell_type": "markdown",
   "metadata": {},
   "source": [
    "А теперь реализуем полносвязный слой (fully connected layer), у которого будет два массива параметров: W (weights) и B (bias).\n",
    "\n",
    "Все параметры наши слои будут использовать для параметров специальный класс `Param`, в котором будут храниться значения параметров и градиенты этих параметров, вычисляемые во время обратного прохода.\n",
    "\n",
    "Это даст возможность аккумулировать (суммировать) градиенты из разных частей функции потерь, например, из cross-entropy loss и regularization loss."
   ]
  },
  {
   "cell_type": "code",
   "execution_count": null,
   "metadata": {},
   "outputs": [],
   "source": [
    "# TODO: Implement FullyConnected layer forward and backward methods\n",
    "assert check_layer_gradient(FullyConnectedLayer(3, 4), X)\n",
    "# TODO: Implement storing gradients for W and B\n",
    "assert check_layer_param_gradient(FullyConnectedLayer(3, 4), X, 'W')\n",
    "assert check_layer_param_gradient(FullyConnectedLayer(3, 4), X, 'B')"
   ]
  },
  {
   "cell_type": "markdown",
   "metadata": {},
   "source": [
    "## Создаем нейронную сеть\n",
    "\n",
    "Теперь мы реализуем простейшую нейронную сеть с двумя полносвязным слоями и нелинейностью ReLU. Реализуйте функцию `compute_loss_and_gradients`, она должна запустить прямой и обратный проход через оба слоя для вычисления градиентов.\n",
    "\n",
    "Не забудьте реализовать очистку градиентов в начале функции."
   ]
  },
  {
   "cell_type": "code",
   "execution_count": null,
   "metadata": {},
   "outputs": [],
   "source": [
    "# TODO: In model.py, implement compute_loss_and_gradients function\n",
    "model = TwoLayerNet(n_input = train_X.shape[1], n_output = 10, hidden_layer_size = 3, reg = 0)\n",
    "loss = model.compute_loss_and_gradients(train_X[:2], train_y[:2])\n",
    "\n",
    "# TODO Now implement backward pass and aggregate all of the params\n",
    "check_model_gradient(model, train_X[:2], train_y[:2])"
   ]
  },
  {
   "cell_type": "markdown",
   "metadata": {},
   "source": [
    "Теперь добавьте к модели регуляризацию - она должна прибавляться к loss и делать свой вклад в градиенты."
   ]
  },
  {
   "cell_type": "code",
   "execution_count": null,
   "metadata": {},
   "outputs": [],
   "source": [
    "# TODO Now implement l2 regularization in the forward and backward pass\n",
    "model_with_reg = TwoLayerNet(n_input = train_X.shape[1], n_output = 10, hidden_layer_size = 3, reg = 1e1)\n",
    "loss_with_reg = model_with_reg.compute_loss_and_gradients(train_X[:2], train_y[:2])\n",
    "assert loss_with_reg > loss and not np.isclose(loss_with_reg, loss), \\\n",
    "    \"Loss with regularization (%2.4f) should be higher than without it (%2.4f)!\" % (loss, loss_with_reg)\n",
    "\n",
    "check_model_gradient(model_with_reg, train_X[:2], train_y[:2])"
   ]
  },
  {
   "cell_type": "markdown",
   "metadata": {},
   "source": [
    "Также реализуем функцию предсказания (вычисления значения) модели на новых данных.\n",
    "\n",
    "Какое значение точности мы ожидаем увидеть до начала тренировки?"
   ]
  },
  {
   "cell_type": "code",
   "execution_count": null,
   "metadata": {},
   "outputs": [],
   "source": [
    "# Finally, implement predict function!\n",
    "\n",
    "# TODO: Implement predict function\n",
    "# What would be the value we expect?\n",
    "multiclass_accuracy(model_with_reg.predict(train_X[:30]), train_y[:30]) "
   ]
  },
  {
   "cell_type": "markdown",
   "metadata": {},
   "source": [
    "# Допишем код для процесса тренировки\n",
    "\n",
    "Если все реализовано корректно, значение функции ошибки должно уменьшаться с каждой эпохой, пусть и медленно. Не беспокойтесь пока про validation accuracy."
   ]
  },
  {
   "cell_type": "code",
   "execution_count": 4,
   "metadata": {},
   "outputs": [
    {
     "name": "stdout",
     "output_type": "stream",
     "text": "Loss: 2.230920, Train accuracy: 0.196667, val accuracy: 0.206000\nLoss: 2.278879, Train accuracy: 0.196667, val accuracy: 0.206000\nLoss: 2.229127, Train accuracy: 0.196667, val accuracy: 0.206000\nLoss: 2.159541, Train accuracy: 0.196667, val accuracy: 0.206000\nLoss: 2.251741, Train accuracy: 0.196667, val accuracy: 0.206000\nLoss: 2.304623, Train accuracy: 0.196667, val accuracy: 0.206000\nLoss: 2.025502, Train accuracy: 0.196778, val accuracy: 0.206000\nLoss: 2.231987, Train accuracy: 0.201667, val accuracy: 0.205000\nLoss: 2.168204, Train accuracy: 0.214444, val accuracy: 0.227000\nLoss: 2.150686, Train accuracy: 0.232000, val accuracy: 0.239000\nLoss: 1.964870, Train accuracy: 0.252556, val accuracy: 0.259000\nLoss: 1.946651, Train accuracy: 0.269667, val accuracy: 0.271000\nLoss: 1.959441, Train accuracy: 0.291667, val accuracy: 0.299000\nLoss: 1.934680, Train accuracy: 0.310889, val accuracy: 0.326000\nLoss: 1.764797, Train accuracy: 0.346778, val accuracy: 0.347000\nLoss: 1.743196, Train accuracy: 0.370111, val accuracy: 0.363000\nLoss: 1.733903, Train accuracy: 0.403000, val accuracy: 0.399000\nLoss: 1.696619, Train accuracy: 0.421222, val accuracy: 0.414000\nLoss: 1.648953, Train accuracy: 0.449333, val accuracy: 0.449000\nLoss: 1.457468, Train accuracy: 0.480111, val accuracy: 0.471000\n"
    }
   ],
   "source": [
    "model = TwoLayerNet(n_input = train_X.shape[1], n_output = 10, hidden_layer_size = 100, reg = 1e-1)\n",
    "dataset = Dataset(train_X, train_y, val_X, val_y)\n",
    "trainer = Trainer(model, dataset, SGD(), learning_rate = 1e-2)\n",
    "\n",
    "# TODO Implement missing pieces in Trainer.fit function\n",
    "# You should expect loss to go down every epoch, even if it's slow\n",
    "loss_history, train_history, val_history = trainer.fit()"
   ]
  },
  {
   "cell_type": "code",
   "execution_count": 5,
   "metadata": {},
   "outputs": [
    {
     "data": {
      "text/plain": "[<matplotlib.lines.Line2D at 0x10f5e3690>]"
     },
     "execution_count": 5,
     "metadata": {},
     "output_type": "execute_result"
    },
    {
     "data": {
      "image/png": "[encoded data removed]",
      "image/svg+xml": "<?xml version=\"1.0\" encoding=\"utf-8\" standalone=\"no\"?>\n<!DOCTYPE svg PUBLIC \"-//W3C//DTD SVG 1.1//EN\"\n  \"http://www.w3.org/Graphics/SVG/1.1/DTD/svg11.dtd\">\n<!-- Created with matplotlib (https://matplotlib.org/) -->\n<svg height=\"248.518125pt\" version=\"1.1\" viewBox=\"0 0 378.465625 248.518125\" width=\"378.465625pt\" xmlns=\"http://www.w3.org/2000/svg\" xmlns:xlink=\"http://www.w3.org/1999/xlink\">\n <defs>\n  <style type=\"text/css\">\n*{stroke-linecap:butt;stroke-linejoin:round;}\n  </style>\n </defs>\n <g id=\"figure_1\">\n  <g id=\"patch_1\">\n   <path d=\"M 0 248.518125 \nL 378.465625 248.518125 \nL 378.465625 0 \nL 0 0 \nz\n\" style=\"fill:none;\"/>\n  </g>\n  <g id=\"axes_1\">\n   <g id=\"patch_2\">\n    <path d=\"M 36.465625 224.64 \nL 371.265625 224.64 \nL 371.265625 7.2 \nL 36.465625 7.2 \nz\n\"/>\n   </g>\n   <g id=\"matplotlib.axis_1\">\n    <g id=\"xtick_1\">\n     <g id=\"line2d_1\">\n      <defs>\n       <path d=\"M 0 0 \nL 0 3.5 \n\" id=\"m6fd37cb90d\" style=\"stroke:#ffffff;stroke-width:0.8;\"/>\n      </defs>\n      <g>\n       <use style=\"fill:#ffffff;stroke:#ffffff;stroke-width:0.8;\" x=\"51.683807\" xlink:href=\"#m6fd37cb90d\" y=\"224.64\"/>\n      </g>\n     </g>\n     <g id=\"text_1\">\n      <!-- 0.0 -->\n      <defs>\n       <path d=\"M 31.78125 66.40625 \nQ 24.171875 66.40625 20.328125 58.90625 \nQ 16.5 51.421875 16.5 36.375 \nQ 16.5 21.390625 20.328125 13.890625 \nQ 24.171875 6.390625 31.78125 6.390625 \nQ 39.453125 6.390625 43.28125 13.890625 \nQ 47.125 21.390625 47.125 36.375 \nQ 47.125 51.421875 43.28125 58.90625 \nQ 39.453125 66.40625 31.78125 66.40625 \nz\nM 31.78125 74.21875 \nQ 44.046875 74.21875 50.515625 64.515625 \nQ 56.984375 54.828125 56.984375 36.375 \nQ 56.984375 17.96875 50.515625 8.265625 \nQ 44.046875 -1.421875 31.78125 -1.421875 \nQ 19.53125 -1.421875 13.0625 8.265625 \nQ 6.59375 17.96875 6.59375 36.375 \nQ 6.59375 54.828125 13.0625 64.515625 \nQ 19.53125 74.21875 31.78125 74.21875 \nz\n\" id=\"DejaVuSans-48\"/>\n       <path d=\"M 10.6875 12.40625 \nL 21 12.40625 \nL 21 0 \nL 10.6875 0 \nz\n\" id=\"DejaVuSans-46\"/>\n      </defs>\n      <g style=\"fill:#ffffff;\" transform=\"translate(43.732244 239.238437)scale(0.1 -0.1)\">\n       <use xlink:href=\"#DejaVuSans-48\"/>\n       <use x=\"63.623047\" xlink:href=\"#DejaVuSans-46\"/>\n       <use x=\"95.410156\" xlink:href=\"#DejaVuSans-48\"/>\n      </g>\n     </g>\n    </g>\n    <g id=\"xtick_2\">\n     <g id=\"line2d_2\">\n      <g>\n       <use style=\"fill:#ffffff;stroke:#ffffff;stroke-width:0.8;\" x=\"91.731654\" xlink:href=\"#m6fd37cb90d\" y=\"224.64\"/>\n      </g>\n     </g>\n     <g id=\"text_2\">\n      <!-- 2.5 -->\n      <defs>\n       <path d=\"M 19.1875 8.296875 \nL 53.609375 8.296875 \nL 53.609375 0 \nL 7.328125 0 \nL 7.328125 8.296875 \nQ 12.9375 14.109375 22.625 23.890625 \nQ 32.328125 33.6875 34.8125 36.53125 \nQ 39.546875 41.84375 41.421875 45.53125 \nQ 43.3125 49.21875 43.3125 52.78125 \nQ 43.3125 58.59375 39.234375 62.25 \nQ 35.15625 65.921875 28.609375 65.921875 \nQ 23.96875 65.921875 18.8125 64.3125 \nQ 13.671875 62.703125 7.8125 59.421875 \nL 7.8125 69.390625 \nQ 13.765625 71.78125 18.9375 73 \nQ 24.125 74.21875 28.421875 74.21875 \nQ 39.75 74.21875 46.484375 68.546875 \nQ 53.21875 62.890625 53.21875 53.421875 \nQ 53.21875 48.921875 51.53125 44.890625 \nQ 49.859375 40.875 45.40625 35.40625 \nQ 44.1875 33.984375 37.640625 27.21875 \nQ 31.109375 20.453125 19.1875 8.296875 \nz\n\" id=\"DejaVuSans-50\"/>\n       <path d=\"M 10.796875 72.90625 \nL 49.515625 72.90625 \nL 49.515625 64.59375 \nL 19.828125 64.59375 \nL 19.828125 46.734375 \nQ 21.96875 47.46875 24.109375 47.828125 \nQ 26.265625 48.1875 28.421875 48.1875 \nQ 40.625 48.1875 47.75 41.5 \nQ 54.890625 34.8125 54.890625 23.390625 \nQ 54.890625 11.625 47.5625 5.09375 \nQ 40.234375 -1.421875 26.90625 -1.421875 \nQ 22.3125 -1.421875 17.546875 -0.640625 \nQ 12.796875 0.140625 7.71875 1.703125 \nL 7.71875 11.625 \nQ 12.109375 9.234375 16.796875 8.0625 \nQ 21.484375 6.890625 26.703125 6.890625 \nQ 35.15625 6.890625 40.078125 11.328125 \nQ 45.015625 15.765625 45.015625 23.390625 \nQ 45.015625 31 40.078125 35.4375 \nQ 35.15625 39.890625 26.703125 39.890625 \nQ 22.75 39.890625 18.8125 39.015625 \nQ 14.890625 38.140625 10.796875 36.28125 \nz\n\" id=\"DejaVuSans-53\"/>\n      </defs>\n      <g style=\"fill:#ffffff;\" transform=\"translate(83.780091 239.238437)scale(0.1 -0.1)\">\n       <use xlink:href=\"#DejaVuSans-50\"/>\n       <use x=\"63.623047\" xlink:href=\"#DejaVuSans-46\"/>\n       <use x=\"95.410156\" xlink:href=\"#DejaVuSans-53\"/>\n      </g>\n     </g>\n    </g>\n    <g id=\"xtick_3\">\n     <g id=\"line2d_3\">\n      <g>\n       <use style=\"fill:#ffffff;stroke:#ffffff;stroke-width:0.8;\" x=\"131.779501\" xlink:href=\"#m6fd37cb90d\" y=\"224.64\"/>\n      </g>\n     </g>\n     <g id=\"text_3\">\n      <!-- 5.0 -->\n      <g style=\"fill:#ffffff;\" transform=\"translate(123.827938 239.238437)scale(0.1 -0.1)\">\n       <use xlink:href=\"#DejaVuSans-53\"/>\n       <use x=\"63.623047\" xlink:href=\"#DejaVuSans-46\"/>\n       <use x=\"95.410156\" xlink:href=\"#DejaVuSans-48\"/>\n      </g>\n     </g>\n    </g>\n    <g id=\"xtick_4\">\n     <g id=\"line2d_4\">\n      <g>\n       <use style=\"fill:#ffffff;stroke:#ffffff;stroke-width:0.8;\" x=\"171.827347\" xlink:href=\"#m6fd37cb90d\" y=\"224.64\"/>\n      </g>\n     </g>\n     <g id=\"text_4\">\n      <!-- 7.5 -->\n      <defs>\n       <path d=\"M 8.203125 72.90625 \nL 55.078125 72.90625 \nL 55.078125 68.703125 \nL 28.609375 0 \nL 18.3125 0 \nL 43.21875 64.59375 \nL 8.203125 64.59375 \nz\n\" id=\"DejaVuSans-55\"/>\n      </defs>\n      <g style=\"fill:#ffffff;\" transform=\"translate(163.875785 239.238437)scale(0.1 -0.1)\">\n       <use xlink:href=\"#DejaVuSans-55\"/>\n       <use x=\"63.623047\" xlink:href=\"#DejaVuSans-46\"/>\n       <use x=\"95.410156\" xlink:href=\"#DejaVuSans-53\"/>\n      </g>\n     </g>\n    </g>\n    <g id=\"xtick_5\">\n     <g id=\"line2d_5\">\n      <g>\n       <use style=\"fill:#ffffff;stroke:#ffffff;stroke-width:0.8;\" x=\"211.875194\" xlink:href=\"#m6fd37cb90d\" y=\"224.64\"/>\n      </g>\n     </g>\n     <g id=\"text_5\">\n      <!-- 10.0 -->\n      <defs>\n       <path d=\"M 12.40625 8.296875 \nL 28.515625 8.296875 \nL 28.515625 63.921875 \nL 10.984375 60.40625 \nL 10.984375 69.390625 \nL 28.421875 72.90625 \nL 38.28125 72.90625 \nL 38.28125 8.296875 \nL 54.390625 8.296875 \nL 54.390625 0 \nL 12.40625 0 \nz\n\" id=\"DejaVuSans-49\"/>\n      </defs>\n      <g style=\"fill:#ffffff;\" transform=\"translate(200.742382 239.238437)scale(0.1 -0.1)\">\n       <use xlink:href=\"#DejaVuSans-49\"/>\n       <use x=\"63.623047\" xlink:href=\"#DejaVuSans-48\"/>\n       <use x=\"127.246094\" xlink:href=\"#DejaVuSans-46\"/>\n       <use x=\"159.033203\" xlink:href=\"#DejaVuSans-48\"/>\n      </g>\n     </g>\n    </g>\n    <g id=\"xtick_6\">\n     <g id=\"line2d_6\">\n      <g>\n       <use style=\"fill:#ffffff;stroke:#ffffff;stroke-width:0.8;\" x=\"251.923041\" xlink:href=\"#m6fd37cb90d\" y=\"224.64\"/>\n      </g>\n     </g>\n     <g id=\"text_6\">\n      <!-- 12.5 -->\n      <g style=\"fill:#ffffff;\" transform=\"translate(240.790229 239.238437)scale(0.1 -0.1)\">\n       <use xlink:href=\"#DejaVuSans-49\"/>\n       <use x=\"63.623047\" xlink:href=\"#DejaVuSans-50\"/>\n       <use x=\"127.246094\" xlink:href=\"#DejaVuSans-46\"/>\n       <use x=\"159.033203\" xlink:href=\"#DejaVuSans-53\"/>\n      </g>\n     </g>\n    </g>\n    <g id=\"xtick_7\">\n     <g id=\"line2d_7\">\n      <g>\n       <use style=\"fill:#ffffff;stroke:#ffffff;stroke-width:0.8;\" x=\"291.970888\" xlink:href=\"#m6fd37cb90d\" y=\"224.64\"/>\n      </g>\n     </g>\n     <g id=\"text_7\">\n      <!-- 15.0 -->\n      <g style=\"fill:#ffffff;\" transform=\"translate(280.838076 239.238437)scale(0.1 -0.1)\">\n       <use xlink:href=\"#DejaVuSans-49\"/>\n       <use x=\"63.623047\" xlink:href=\"#DejaVuSans-53\"/>\n       <use x=\"127.246094\" xlink:href=\"#DejaVuSans-46\"/>\n       <use x=\"159.033203\" xlink:href=\"#DejaVuSans-48\"/>\n      </g>\n     </g>\n    </g>\n    <g id=\"xtick_8\">\n     <g id=\"line2d_8\">\n      <g>\n       <use style=\"fill:#ffffff;stroke:#ffffff;stroke-width:0.8;\" x=\"332.018735\" xlink:href=\"#m6fd37cb90d\" y=\"224.64\"/>\n      </g>\n     </g>\n     <g id=\"text_8\">\n      <!-- 17.5 -->\n      <g style=\"fill:#ffffff;\" transform=\"translate(320.885923 239.238437)scale(0.1 -0.1)\">\n       <use xlink:href=\"#DejaVuSans-49\"/>\n       <use x=\"63.623047\" xlink:href=\"#DejaVuSans-55\"/>\n       <use x=\"127.246094\" xlink:href=\"#DejaVuSans-46\"/>\n       <use x=\"159.033203\" xlink:href=\"#DejaVuSans-53\"/>\n      </g>\n     </g>\n    </g>\n   </g>\n   <g id=\"matplotlib.axis_2\">\n    <g id=\"ytick_1\">\n     <g id=\"line2d_9\">\n      <defs>\n       <path d=\"M 0 0 \nL -3.5 0 \n\" id=\"m37e6db878a\" style=\"stroke:#ffffff;stroke-width:0.8;\"/>\n      </defs>\n      <g>\n       <use style=\"fill:#ffffff;stroke:#ffffff;stroke-width:0.8;\" x=\"36.465625\" xlink:href=\"#m37e6db878a\" y=\"212.431714\"/>\n      </g>\n     </g>\n     <g id=\"text_9\">\n      <!-- 0.20 -->\n      <g style=\"fill:#ffffff;\" transform=\"translate(7.2 216.230933)scale(0.1 -0.1)\">\n       <use xlink:href=\"#DejaVuSans-48\"/>\n       <use x=\"63.623047\" xlink:href=\"#DejaVuSans-46\"/>\n       <use x=\"95.410156\" xlink:href=\"#DejaVuSans-50\"/>\n       <use x=\"159.033203\" xlink:href=\"#DejaVuSans-48\"/>\n      </g>\n     </g>\n    </g>\n    <g id=\"ytick_2\">\n     <g id=\"line2d_10\">\n      <g>\n       <use style=\"fill:#ffffff;stroke:#ffffff;stroke-width:0.8;\" x=\"36.465625\" xlink:href=\"#m37e6db878a\" y=\"177.561966\"/>\n      </g>\n     </g>\n     <g id=\"text_10\">\n      <!-- 0.25 -->\n      <g style=\"fill:#ffffff;\" transform=\"translate(7.2 181.361184)scale(0.1 -0.1)\">\n       <use xlink:href=\"#DejaVuSans-48\"/>\n       <use x=\"63.623047\" xlink:href=\"#DejaVuSans-46\"/>\n       <use x=\"95.410156\" xlink:href=\"#DejaVuSans-50\"/>\n       <use x=\"159.033203\" xlink:href=\"#DejaVuSans-53\"/>\n      </g>\n     </g>\n    </g>\n    <g id=\"ytick_3\">\n     <g id=\"line2d_11\">\n      <g>\n       <use style=\"fill:#ffffff;stroke:#ffffff;stroke-width:0.8;\" x=\"36.465625\" xlink:href=\"#m37e6db878a\" y=\"142.692218\"/>\n      </g>\n     </g>\n     <g id=\"text_11\">\n      <!-- 0.30 -->\n      <defs>\n       <path d=\"M 40.578125 39.3125 \nQ 47.65625 37.796875 51.625 33 \nQ 55.609375 28.21875 55.609375 21.1875 \nQ 55.609375 10.40625 48.1875 4.484375 \nQ 40.765625 -1.421875 27.09375 -1.421875 \nQ 22.515625 -1.421875 17.65625 -0.515625 \nQ 12.796875 0.390625 7.625 2.203125 \nL 7.625 11.71875 \nQ 11.71875 9.328125 16.59375 8.109375 \nQ 21.484375 6.890625 26.8125 6.890625 \nQ 36.078125 6.890625 40.9375 10.546875 \nQ 45.796875 14.203125 45.796875 21.1875 \nQ 45.796875 27.640625 41.28125 31.265625 \nQ 36.765625 34.90625 28.71875 34.90625 \nL 20.21875 34.90625 \nL 20.21875 43.015625 \nL 29.109375 43.015625 \nQ 36.375 43.015625 40.234375 45.921875 \nQ 44.09375 48.828125 44.09375 54.296875 \nQ 44.09375 59.90625 40.109375 62.90625 \nQ 36.140625 65.921875 28.71875 65.921875 \nQ 24.65625 65.921875 20.015625 65.03125 \nQ 15.375 64.15625 9.8125 62.3125 \nL 9.8125 71.09375 \nQ 15.4375 72.65625 20.34375 73.4375 \nQ 25.25 74.21875 29.59375 74.21875 \nQ 40.828125 74.21875 47.359375 69.109375 \nQ 53.90625 64.015625 53.90625 55.328125 \nQ 53.90625 49.265625 50.4375 45.09375 \nQ 46.96875 40.921875 40.578125 39.3125 \nz\n\" id=\"DejaVuSans-51\"/>\n      </defs>\n      <g style=\"fill:#ffffff;\" transform=\"translate(7.2 146.491436)scale(0.1 -0.1)\">\n       <use xlink:href=\"#DejaVuSans-48\"/>\n       <use x=\"63.623047\" xlink:href=\"#DejaVuSans-46\"/>\n       <use x=\"95.410156\" xlink:href=\"#DejaVuSans-51\"/>\n       <use x=\"159.033203\" xlink:href=\"#DejaVuSans-48\"/>\n      </g>\n     </g>\n    </g>\n    <g id=\"ytick_4\">\n     <g id=\"line2d_12\">\n      <g>\n       <use style=\"fill:#ffffff;stroke:#ffffff;stroke-width:0.8;\" x=\"36.465625\" xlink:href=\"#m37e6db878a\" y=\"107.82247\"/>\n      </g>\n     </g>\n     <g id=\"text_12\">\n      <!-- 0.35 -->\n      <g style=\"fill:#ffffff;\" transform=\"translate(7.2 111.621688)scale(0.1 -0.1)\">\n       <use xlink:href=\"#DejaVuSans-48\"/>\n       <use x=\"63.623047\" xlink:href=\"#DejaVuSans-46\"/>\n       <use x=\"95.410156\" xlink:href=\"#DejaVuSans-51\"/>\n       <use x=\"159.033203\" xlink:href=\"#DejaVuSans-53\"/>\n      </g>\n     </g>\n    </g>\n    <g id=\"ytick_5\">\n     <g id=\"line2d_13\">\n      <g>\n       <use style=\"fill:#ffffff;stroke:#ffffff;stroke-width:0.8;\" x=\"36.465625\" xlink:href=\"#m37e6db878a\" y=\"72.952722\"/>\n      </g>\n     </g>\n     <g id=\"text_13\">\n      <!-- 0.40 -->\n      <defs>\n       <path d=\"M 37.796875 64.3125 \nL 12.890625 25.390625 \nL 37.796875 25.390625 \nz\nM 35.203125 72.90625 \nL 47.609375 72.90625 \nL 47.609375 25.390625 \nL 58.015625 25.390625 \nL 58.015625 17.1875 \nL 47.609375 17.1875 \nL 47.609375 0 \nL 37.796875 0 \nL 37.796875 17.1875 \nL 4.890625 17.1875 \nL 4.890625 26.703125 \nz\n\" id=\"DejaVuSans-52\"/>\n      </defs>\n      <g style=\"fill:#ffffff;\" transform=\"translate(7.2 76.75194)scale(0.1 -0.1)\">\n       <use xlink:href=\"#DejaVuSans-48\"/>\n       <use x=\"63.623047\" xlink:href=\"#DejaVuSans-46\"/>\n       <use x=\"95.410156\" xlink:href=\"#DejaVuSans-52\"/>\n       <use x=\"159.033203\" xlink:href=\"#DejaVuSans-48\"/>\n      </g>\n     </g>\n    </g>\n    <g id=\"ytick_6\">\n     <g id=\"line2d_14\">\n      <g>\n       <use style=\"fill:#ffffff;stroke:#ffffff;stroke-width:0.8;\" x=\"36.465625\" xlink:href=\"#m37e6db878a\" y=\"38.082974\"/>\n      </g>\n     </g>\n     <g id=\"text_14\">\n      <!-- 0.45 -->\n      <g style=\"fill:#ffffff;\" transform=\"translate(7.2 41.882192)scale(0.1 -0.1)\">\n       <use xlink:href=\"#DejaVuSans-48\"/>\n       <use x=\"63.623047\" xlink:href=\"#DejaVuSans-46\"/>\n       <use x=\"95.410156\" xlink:href=\"#DejaVuSans-52\"/>\n       <use x=\"159.033203\" xlink:href=\"#DejaVuSans-53\"/>\n      </g>\n     </g>\n    </g>\n   </g>\n   <g id=\"line2d_15\">\n    <path clip-path=\"url(#pe6b1c21aed)\" d=\"M 51.683807 214.756364 \nL 67.702946 214.756364 \nL 83.722084 214.756364 \nL 99.741223 214.756364 \nL 115.760362 214.756364 \nL 131.779501 214.756364 \nL 147.798639 214.678875 \nL 163.817778 211.269389 \nL 179.836917 202.358231 \nL 195.856056 190.115075 \nL 211.875194 175.779734 \nL 227.894333 163.846531 \nL 243.913472 148.503842 \nL 259.932611 135.098361 \nL 275.951749 110.069631 \nL 291.970888 93.797082 \nL 307.990027 70.860537 \nL 324.009166 58.152451 \nL 340.028304 38.547903 \nL 356.047443 17.083636 \n\" style=\"fill:none;stroke:#8dd3c7;stroke-linecap:square;stroke-width:1.5;\"/>\n   </g>\n   <g id=\"line2d_16\">\n    <path clip-path=\"url(#pe6b1c21aed)\" d=\"M 51.683807 208.247344 \nL 67.702946 208.247344 \nL 83.722084 208.247344 \nL 99.741223 208.247344 \nL 115.760362 208.247344 \nL 131.779501 208.247344 \nL 147.798639 208.247344 \nL 163.817778 208.944739 \nL 179.836917 193.60205 \nL 195.856056 185.23331 \nL 211.875194 171.285411 \nL 227.894333 162.916672 \nL 243.913472 143.389613 \nL 259.932611 124.559949 \nL 275.951749 109.914655 \nL 291.970888 98.756335 \nL 307.990027 73.650117 \nL 324.009166 63.189192 \nL 340.028304 38.780368 \nL 356.047443 23.437679 \n\" style=\"fill:none;stroke:#feffb3;stroke-linecap:square;stroke-width:1.5;\"/>\n   </g>\n   <g id=\"patch_3\">\n    <path d=\"M 36.465625 224.64 \nL 36.465625 7.2 \n\" style=\"fill:none;stroke:#ffffff;stroke-linecap:square;stroke-linejoin:miter;stroke-width:0.8;\"/>\n   </g>\n   <g id=\"patch_4\">\n    <path d=\"M 371.265625 224.64 \nL 371.265625 7.2 \n\" style=\"fill:none;stroke:#ffffff;stroke-linecap:square;stroke-linejoin:miter;stroke-width:0.8;\"/>\n   </g>\n   <g id=\"patch_5\">\n    <path d=\"M 36.465625 224.64 \nL 371.265625 224.64 \n\" style=\"fill:none;stroke:#ffffff;stroke-linecap:square;stroke-linejoin:miter;stroke-width:0.8;\"/>\n   </g>\n   <g id=\"patch_6\">\n    <path d=\"M 36.465625 7.2 \nL 371.265625 7.2 \n\" style=\"fill:none;stroke:#ffffff;stroke-linecap:square;stroke-linejoin:miter;stroke-width:0.8;\"/>\n   </g>\n  </g>\n </g>\n <defs>\n  <clipPath id=\"pe6b1c21aed\">\n   <rect height=\"217.44\" width=\"334.8\" x=\"36.465625\" y=\"7.2\"/>\n  </clipPath>\n </defs>\n</svg>\n",
      "text/plain": "<Figure size 432x288 with 1 Axes>"
     },
     "metadata": {
      "needs_background": "dark"
     },
     "output_type": "display_data"
    }
   ],
   "source": [
    "plt.plot(train_history)\n",
    "plt.plot(val_history)"
   ]
  },
  {
   "cell_type": "markdown",
   "metadata": {},
   "source": [
    "# Улучшаем процесс тренировки\n",
    "\n",
    "Мы реализуем несколько ключевых оптимизаций, необходимых для тренировки современных нейросетей."
   ]
  },
  {
   "cell_type": "markdown",
   "metadata": {},
   "source": [
    "## Уменьшение скорости обучения (learning rate decay)\n",
    "\n",
    "Одна из необходимых оптимизаций во время тренировки нейронных сетей - постепенное уменьшение скорости обучения по мере тренировки.\n",
    "\n",
    "Один из стандартных методов - уменьшение скорости обучения (learning rate) каждые N эпох на коэффициент d (часто называемый decay). Значения N и d, как всегда, являются гиперпараметрами и должны подбираться на основе эффективности на проверочных данных (validation data). \n",
    "\n",
    "В нашем случае N будет равным 1."
   ]
  },
  {
   "cell_type": "code",
   "execution_count": 8,
   "metadata": {},
   "outputs": [
    {
     "name": "stdout",
     "output_type": "stream",
     "text": "Loss: 2.268760, Train accuracy: 0.196667, val accuracy: 0.206000\nLoss: 2.197180, Train accuracy: 0.196667, val accuracy: 0.206000\nLoss: 2.353785, Train accuracy: 0.196667, val accuracy: 0.206000\nLoss: 2.200915, Train accuracy: 0.196667, val accuracy: 0.206000\nLoss: 2.027092, Train accuracy: 0.196667, val accuracy: 0.206000\nLoss: 2.127145, Train accuracy: 0.196667, val accuracy: 0.206000\nLoss: 2.195379, Train accuracy: 0.197000, val accuracy: 0.206000\nLoss: 1.985370, Train accuracy: 0.201000, val accuracy: 0.206000\nLoss: 2.280994, Train accuracy: 0.212333, val accuracy: 0.223000\nLoss: 2.271336, Train accuracy: 0.221222, val accuracy: 0.228000\nLoss: 1.904730, Train accuracy: 0.237222, val accuracy: 0.244000\nLoss: 1.973185, Train accuracy: 0.260222, val accuracy: 0.265000\nLoss: 2.150753, Train accuracy: 0.279333, val accuracy: 0.288000\nLoss: 2.085090, Train accuracy: 0.300000, val accuracy: 0.310000\nLoss: 1.808974, Train accuracy: 0.328111, val accuracy: 0.332000\nLoss: 1.681625, Train accuracy: 0.353556, val accuracy: 0.359000\nLoss: 1.968741, Train accuracy: 0.385000, val accuracy: 0.381000\nLoss: 2.094237, Train accuracy: 0.398556, val accuracy: 0.398000\nLoss: 1.591788, Train accuracy: 0.421556, val accuracy: 0.411000\nLoss: 1.461062, Train accuracy: 0.439778, val accuracy: 0.424000\n"
    }
   ],
   "source": [
    "# TODO Implement learning rate decay inside Trainer.fit method\n",
    "# Decay should happen once per epoch\n",
    "\n",
    "model = TwoLayerNet(n_input = train_X.shape[1], n_output = 10, hidden_layer_size = 100, reg = 1e-1)\n",
    "dataset = Dataset(train_X, train_y, val_X, val_y)\n",
    "trainer = Trainer(model, dataset, SGD(), learning_rate_decay=0.99)\n",
    "\n",
    "initial_learning_rate = trainer.learning_rate\n",
    "loss_history, train_history, val_history = trainer.fit()\n",
    "\n",
    "assert trainer.learning_rate < initial_learning_rate, \"Learning rate should've been reduced\"\n",
    "assert trainer.learning_rate > 0.5*initial_learning_rate, \"Learning rate shouldn'tve been reduced that much!\""
   ]
  },
  {
   "cell_type": "markdown",
   "metadata": {},
   "source": [
    "# Накопление импульса (Momentum SGD)\n",
    "\n",
    "Другой большой класс оптимизаций - использование более эффективных методов градиентного спуска. Мы реализуем один из них - накопление импульса (Momentum SGD).\n",
    "\n",
    "Этот метод хранит скорость движения, использует градиент для ее изменения на каждом шаге, и изменяет веса пропорционально значению скорости.\n",
    "(Физическая аналогия: Вместо скорости градиенты теперь будут задавать ускорение, но будет присутствовать сила трения.)\n",
    "\n",
    "```\n",
    "velocity = momentum * velocity - learning_rate * gradient \n",
    "w = w + velocity\n",
    "```\n",
    "\n",
    "`momentum` здесь коэффициент затухания, который тоже является гиперпараметром (к счастью, для него часто есть хорошее значение по умолчанию, типичный диапазон -- 0.8-0.99).\n",
    "\n",
    "Несколько полезных ссылок, где метод разбирается более подробно:  \n",
    "http://cs231n.github.io/neural-networks-3/#sgd  \n",
    "https://distill.pub/2017/momentum/"
   ]
  },
  {
   "cell_type": "code",
   "execution_count": 36,
   "metadata": {},
   "outputs": [
    {
     "name": "stdout",
     "output_type": "stream",
     "text": "Loss: 2.103130, Train accuracy: 0.197778, val accuracy: 0.206000\nLoss: 1.547579, Train accuracy: 0.411222, val accuracy: 0.400000\nLoss: 1.295204, Train accuracy: 0.536111, val accuracy: 0.552000\nLoss: 0.978029, Train accuracy: 0.640556, val accuracy: 0.611000\nLoss: 0.799238, Train accuracy: 0.665333, val accuracy: 0.648000\nLoss: 1.063757, Train accuracy: 0.710333, val accuracy: 0.671000\nLoss: 0.943930, Train accuracy: 0.723333, val accuracy: 0.697000\nLoss: 0.855054, Train accuracy: 0.721333, val accuracy: 0.678000\nLoss: 0.542999, Train accuracy: 0.744889, val accuracy: 0.687000\nLoss: 0.781215, Train accuracy: 0.762778, val accuracy: 0.704000\nLoss: 0.927544, Train accuracy: 0.788556, val accuracy: 0.716000\nLoss: 0.735953, Train accuracy: 0.780444, val accuracy: 0.708000\nLoss: 0.513450, Train accuracy: 0.801333, val accuracy: 0.713000\nLoss: 0.449623, Train accuracy: 0.797222, val accuracy: 0.702000\nLoss: 0.373643, Train accuracy: 0.841000, val accuracy: 0.736000\nLoss: 0.711586, Train accuracy: 0.838444, val accuracy: 0.731000\nLoss: 0.509057, Train accuracy: 0.839000, val accuracy: 0.751000\nLoss: 0.562003, Train accuracy: 0.858778, val accuracy: 0.745000\nLoss: 0.504388, Train accuracy: 0.834778, val accuracy: 0.725000\nLoss: 0.676807, Train accuracy: 0.864333, val accuracy: 0.738000\n"
    }
   ],
   "source": [
    "# TODO: Implement MomentumSGD.update function in optim.py\n",
    "\n",
    "model = TwoLayerNet(n_input = train_X.shape[1], n_output = 10, hidden_layer_size = 100, reg = 1e-3)\n",
    "dataset = Dataset(train_X, train_y, val_X, val_y)\n",
    "trainer = Trainer(model, dataset, MomentumSGD(), learning_rate=1e-2, learning_rate_decay=0.99)\n",
    "\n",
    "# You should see even better results than before!\n",
    "loss_history, train_history, val_history = trainer.fit()"
   ]
  },
  {
   "cell_type": "markdown",
   "metadata": {},
   "source": [
    "# Ну что, давайте уже тренировать сеть!"
   ]
  },
  {
   "cell_type": "markdown",
   "metadata": {},
   "source": [
    "## Последний тест - переобучимся (overfit) на маленьком наборе данных\n",
    "\n",
    "Хороший способ проверить, все ли реализовано корректно - переобучить сеть на маленьком наборе данных.  \n",
    "Наша модель обладает достаточной мощностью, чтобы приблизить маленький набор данных идеально, поэтому мы ожидаем, что на нем мы быстро дойдем до 100% точности на тренировочном наборе. \n",
    "\n",
    "Если этого не происходит, то где-то была допущена ошибка!"
   ]
  },
  {
   "cell_type": "code",
   "execution_count": 22,
   "metadata": {},
   "outputs": [
    {
     "name": "stdout",
     "output_type": "stream",
     "text": "Loss: 2.303085, Train accuracy: 0.333333, val accuracy: 0.066667\nLoss: 2.295199, Train accuracy: 0.200000, val accuracy: 0.133333\nLoss: 2.294738, Train accuracy: 0.200000, val accuracy: 0.133333\nLoss: 2.310923, Train accuracy: 0.200000, val accuracy: 0.133333\nLoss: 2.254763, Train accuracy: 0.200000, val accuracy: 0.133333\nLoss: 2.262487, Train accuracy: 0.266667, val accuracy: 0.000000\nLoss: 2.229849, Train accuracy: 0.266667, val accuracy: 0.000000\nLoss: 2.126414, Train accuracy: 0.400000, val accuracy: 0.000000\nLoss: 2.143855, Train accuracy: 0.400000, val accuracy: 0.000000\nLoss: 2.314247, Train accuracy: 0.400000, val accuracy: 0.000000\nLoss: 1.818495, Train accuracy: 0.400000, val accuracy: 0.000000\nLoss: 1.820120, Train accuracy: 0.333333, val accuracy: 0.000000\nLoss: 2.089383, Train accuracy: 0.333333, val accuracy: 0.000000\nLoss: 1.870104, Train accuracy: 0.333333, val accuracy: 0.000000\nLoss: 2.175332, Train accuracy: 0.333333, val accuracy: 0.000000\nLoss: 1.338847, Train accuracy: 0.400000, val accuracy: 0.000000\nLoss: 1.517427, Train accuracy: 0.466667, val accuracy: 0.000000\nLoss: 1.564703, Train accuracy: 0.466667, val accuracy: 0.066667\nLoss: 1.658190, Train accuracy: 0.466667, val accuracy: 0.000000\nLoss: 1.545037, Train accuracy: 0.466667, val accuracy: 0.000000\nLoss: 1.187842, Train accuracy: 0.466667, val accuracy: 0.066667\nLoss: 1.136719, Train accuracy: 0.466667, val accuracy: 0.066667\nLoss: 0.758650, Train accuracy: 0.466667, val accuracy: 0.000000\nLoss: 1.118780, Train accuracy: 0.533333, val accuracy: 0.066667\nLoss: 1.479435, Train accuracy: 0.533333, val accuracy: 0.000000\nLoss: 0.741900, Train accuracy: 0.600000, val accuracy: 0.066667\nLoss: 1.234967, Train accuracy: 0.600000, val accuracy: 0.000000\nLoss: 1.048083, Train accuracy: 0.666667, val accuracy: 0.000000\nLoss: 2.013169, Train accuracy: 0.666667, val accuracy: 0.066667\nLoss: 1.153255, Train accuracy: 0.666667, val accuracy: 0.066667\nLoss: 1.155345, Train accuracy: 0.733333, val accuracy: 0.066667\nLoss: 1.181513, Train accuracy: 0.733333, val accuracy: 0.066667\nLoss: 1.354443, Train accuracy: 0.733333, val accuracy: 0.133333\nLoss: 0.919977, Train accuracy: 0.733333, val accuracy: 0.066667\nLoss: 0.906747, Train accuracy: 0.733333, val accuracy: 0.066667\nLoss: 0.764067, Train accuracy: 0.733333, val accuracy: 0.066667\nLoss: 0.687862, Train accuracy: 0.733333, val accuracy: 0.066667\nLoss: 1.005230, Train accuracy: 0.866667, val accuracy: 0.066667\nLoss: 0.821010, Train accuracy: 0.866667, val accuracy: 0.000000\nLoss: 0.221454, Train accuracy: 0.866667, val accuracy: 0.000000\nLoss: 0.386722, Train accuracy: 0.866667, val accuracy: 0.066667\nLoss: 0.192207, Train accuracy: 0.933333, val accuracy: 0.000000\nLoss: 0.739538, Train accuracy: 0.933333, val accuracy: 0.066667\nLoss: 0.368119, Train accuracy: 0.933333, val accuracy: 0.066667\nLoss: 0.420170, Train accuracy: 0.933333, val accuracy: 0.066667\nLoss: 0.749689, Train accuracy: 1.000000, val accuracy: 0.066667\nLoss: 0.116960, Train accuracy: 0.933333, val accuracy: 0.000000\nLoss: 0.399167, Train accuracy: 0.933333, val accuracy: 0.000000\nLoss: 0.401341, Train accuracy: 1.000000, val accuracy: 0.000000\nLoss: 0.355160, Train accuracy: 1.000000, val accuracy: 0.000000\nLoss: 0.488618, Train accuracy: 1.000000, val accuracy: 0.000000\nLoss: 0.296442, Train accuracy: 1.000000, val accuracy: 0.000000\nLoss: 0.086243, Train accuracy: 1.000000, val accuracy: 0.000000\nLoss: 0.342350, Train accuracy: 1.000000, val accuracy: 0.000000\nLoss: 0.069882, Train accuracy: 1.000000, val accuracy: 0.000000\nLoss: 0.057936, Train accuracy: 1.000000, val accuracy: 0.000000\nLoss: 0.237553, Train accuracy: 1.000000, val accuracy: 0.000000\nLoss: 0.127751, Train accuracy: 1.000000, val accuracy: 0.000000\nLoss: 0.173621, Train accuracy: 1.000000, val accuracy: 0.000000\nLoss: 0.071752, Train accuracy: 1.000000, val accuracy: 0.000000\nLoss: 0.076727, Train accuracy: 1.000000, val accuracy: 0.000000\nLoss: 0.115558, Train accuracy: 1.000000, val accuracy: 0.000000\nLoss: 0.094123, Train accuracy: 1.000000, val accuracy: 0.000000\nLoss: 0.060787, Train accuracy: 1.000000, val accuracy: 0.000000\nLoss: 0.074869, Train accuracy: 1.000000, val accuracy: 0.000000\nLoss: 0.112933, Train accuracy: 1.000000, val accuracy: 0.000000\nLoss: 0.148441, Train accuracy: 1.000000, val accuracy: 0.000000\nLoss: 0.069567, Train accuracy: 1.000000, val accuracy: 0.000000\nLoss: 0.081226, Train accuracy: 1.000000, val accuracy: 0.000000\nLoss: 0.082508, Train accuracy: 1.000000, val accuracy: 0.000000\nLoss: 0.089799, Train accuracy: 1.000000, val accuracy: 0.000000\nLoss: 0.093446, Train accuracy: 1.000000, val accuracy: 0.000000\nLoss: 0.051082, Train accuracy: 1.000000, val accuracy: 0.000000\nLoss: 0.047767, Train accuracy: 1.000000, val accuracy: 0.000000\nLoss: 0.049654, Train accuracy: 1.000000, val accuracy: 0.000000\nLoss: 0.043046, Train accuracy: 1.000000, val accuracy: 0.000000\nLoss: 0.060431, Train accuracy: 1.000000, val accuracy: 0.000000\nLoss: 0.049807, Train accuracy: 1.000000, val accuracy: 0.000000\nLoss: 0.033100, Train accuracy: 1.000000, val accuracy: 0.000000\nLoss: 0.039100, Train accuracy: 1.000000, val accuracy: 0.000000\nLoss: 0.028333, Train accuracy: 1.000000, val accuracy: 0.000000\nLoss: 0.057762, Train accuracy: 1.000000, val accuracy: 0.000000\nLoss: 0.045661, Train accuracy: 1.000000, val accuracy: 0.000000\nLoss: 0.058056, Train accuracy: 1.000000, val accuracy: 0.000000\nLoss: 0.056152, Train accuracy: 1.000000, val accuracy: 0.000000\nLoss: 0.038478, Train accuracy: 1.000000, val accuracy: 0.000000\nLoss: 0.027618, Train accuracy: 1.000000, val accuracy: 0.000000\nLoss: 0.046327, Train accuracy: 1.000000, val accuracy: 0.000000\nLoss: 0.028069, Train accuracy: 1.000000, val accuracy: 0.000000\nLoss: 0.036962, Train accuracy: 1.000000, val accuracy: 0.000000\nLoss: 0.022108, Train accuracy: 1.000000, val accuracy: 0.000000\nLoss: 0.036108, Train accuracy: 1.000000, val accuracy: 0.000000\nLoss: 0.046049, Train accuracy: 1.000000, val accuracy: 0.000000\nLoss: 0.030157, Train accuracy: 1.000000, val accuracy: 0.000000\nLoss: 0.025728, Train accuracy: 1.000000, val accuracy: 0.000000\nLoss: 0.022771, Train accuracy: 1.000000, val accuracy: 0.000000\nLoss: 0.030989, Train accuracy: 1.000000, val accuracy: 0.000000\nLoss: 0.031261, Train accuracy: 1.000000, val accuracy: 0.000000\nLoss: 0.034346, Train accuracy: 1.000000, val accuracy: 0.000000\nLoss: 0.021227, Train accuracy: 1.000000, val accuracy: 0.000000\nLoss: 0.023045, Train accuracy: 1.000000, val accuracy: 0.000000\nLoss: 0.025076, Train accuracy: 1.000000, val accuracy: 0.000000\nLoss: 0.031086, Train accuracy: 1.000000, val accuracy: 0.000000\nLoss: 0.024193, Train accuracy: 1.000000, val accuracy: 0.000000\nLoss: 0.029507, Train accuracy: 1.000000, val accuracy: 0.000000\nLoss: 0.032937, Train accuracy: 1.000000, val accuracy: 0.000000\nLoss: 0.019931, Train accuracy: 1.000000, val accuracy: 0.000000\nLoss: 0.027414, Train accuracy: 1.000000, val accuracy: 0.000000\nLoss: 0.021984, Train accuracy: 1.000000, val accuracy: 0.000000\nLoss: 0.018452, Train accuracy: 1.000000, val accuracy: 0.000000\nLoss: 0.026123, Train accuracy: 1.000000, val accuracy: 0.000000\nLoss: 0.024725, Train accuracy: 1.000000, val accuracy: 0.000000\nLoss: 0.023950, Train accuracy: 1.000000, val accuracy: 0.000000\nLoss: 0.031118, Train accuracy: 1.000000, val accuracy: 0.000000\nLoss: 0.026792, Train accuracy: 1.000000, val accuracy: 0.000000\nLoss: 0.027404, Train accuracy: 1.000000, val accuracy: 0.000000\nLoss: 0.023807, Train accuracy: 1.000000, val accuracy: 0.000000\nLoss: 0.025480, Train accuracy: 1.000000, val accuracy: 0.000000\nLoss: 0.018945, Train accuracy: 1.000000, val accuracy: 0.000000\nLoss: 0.023426, Train accuracy: 1.000000, val accuracy: 0.000000\nLoss: 0.019653, Train accuracy: 1.000000, val accuracy: 0.000000\nLoss: 0.029746, Train accuracy: 1.000000, val accuracy: 0.000000\nLoss: 0.023205, Train accuracy: 1.000000, val accuracy: 0.000000\nLoss: 0.026223, Train accuracy: 1.000000, val accuracy: 0.000000\nLoss: 0.020198, Train accuracy: 1.000000, val accuracy: 0.000000\nLoss: 0.019553, Train accuracy: 1.000000, val accuracy: 0.000000\nLoss: 0.026745, Train accuracy: 1.000000, val accuracy: 0.000000\nLoss: 0.021573, Train accuracy: 1.000000, val accuracy: 0.000000\nLoss: 0.020831, Train accuracy: 1.000000, val accuracy: 0.000000\nLoss: 0.023953, Train accuracy: 1.000000, val accuracy: 0.000000\nLoss: 0.021723, Train accuracy: 1.000000, val accuracy: 0.000000\nLoss: 0.020266, Train accuracy: 1.000000, val accuracy: 0.000000\nLoss: 0.022617, Train accuracy: 1.000000, val accuracy: 0.000000\nLoss: 0.019280, Train accuracy: 1.000000, val accuracy: 0.000000\nLoss: 0.021469, Train accuracy: 1.000000, val accuracy: 0.000000\nLoss: 0.022689, Train accuracy: 1.000000, val accuracy: 0.000000\nLoss: 0.023278, Train accuracy: 1.000000, val accuracy: 0.000000\nLoss: 0.025526, Train accuracy: 1.000000, val accuracy: 0.000000\nLoss: 0.022123, Train accuracy: 1.000000, val accuracy: 0.000000\nLoss: 0.021386, Train accuracy: 1.000000, val accuracy: 0.000000\nLoss: 0.023167, Train accuracy: 1.000000, val accuracy: 0.000000\nLoss: 0.019437, Train accuracy: 1.000000, val accuracy: 0.000000\nLoss: 0.021116, Train accuracy: 1.000000, val accuracy: 0.000000\nLoss: 0.022604, Train accuracy: 1.000000, val accuracy: 0.000000\nLoss: 0.021820, Train accuracy: 1.000000, val accuracy: 0.000000\nLoss: 0.018258, Train accuracy: 1.000000, val accuracy: 0.000000\nLoss: 0.020177, Train accuracy: 1.000000, val accuracy: 0.000000\nLoss: 0.022553, Train accuracy: 1.000000, val accuracy: 0.000000\nLoss: 0.018673, Train accuracy: 1.000000, val accuracy: 0.000000\nLoss: 0.024715, Train accuracy: 1.000000, val accuracy: 0.000000\n"
    }
   ],
   "source": [
    "data_size = 15\n",
    "model = TwoLayerNet(n_input = train_X.shape[1], n_output = 10, hidden_layer_size = 100, reg = 1e-1)\n",
    "dataset = Dataset(train_X[:data_size], train_y[:data_size], val_X[:data_size], val_y[:data_size])\n",
    "trainer = Trainer(model, dataset, SGD(), learning_rate=1e-1, num_epochs=150, batch_size=5)\n",
    "\n",
    "# You should expect this to reach 1.0 training accuracy \n",
    "loss_history, train_history, val_history = trainer.fit()"
   ]
  },
  {
   "cell_type": "markdown",
   "metadata": {},
   "source": [
    "Теперь найдем гипепараметры, для которых этот процесс сходится быстрее.\n",
    "Если все реализовано корректно, то существуют параметры, при которых процесс сходится в **20** эпох или еще быстрее.\n",
    "Найдите их!"
   ]
  },
  {
   "cell_type": "code",
   "execution_count": 39,
   "metadata": {},
   "outputs": [
    {
     "name": "stdout",
     "output_type": "stream",
     "text": "Loss: 2.317286, Train accuracy: 0.200000, val accuracy: 0.066667\nLoss: 2.316438, Train accuracy: 0.266667, val accuracy: 0.000000\nLoss: 2.226646, Train accuracy: 0.200000, val accuracy: 0.133333\nLoss: 2.250797, Train accuracy: 0.400000, val accuracy: 0.000000\nLoss: 1.995526, Train accuracy: 0.400000, val accuracy: 0.000000\nLoss: 1.971803, Train accuracy: 0.333333, val accuracy: 0.133333\nLoss: 1.969251, Train accuracy: 0.333333, val accuracy: 0.066667\nLoss: 1.586950, Train accuracy: 0.333333, val accuracy: 0.000000\nLoss: 1.660163, Train accuracy: 0.400000, val accuracy: 0.000000\nLoss: 1.911064, Train accuracy: 0.466667, val accuracy: 0.133333\nLoss: 1.109971, Train accuracy: 0.600000, val accuracy: 0.000000\nLoss: 0.997625, Train accuracy: 0.533333, val accuracy: 0.000000\nLoss: 1.387186, Train accuracy: 0.666667, val accuracy: 0.000000\nLoss: 1.362452, Train accuracy: 0.800000, val accuracy: 0.066667\nLoss: 1.165219, Train accuracy: 0.866667, val accuracy: 0.066667\nLoss: 0.340941, Train accuracy: 0.866667, val accuracy: 0.066667\nLoss: 0.538812, Train accuracy: 0.933333, val accuracy: 0.066667\nLoss: 0.483145, Train accuracy: 1.000000, val accuracy: 0.066667\nLoss: 0.142334, Train accuracy: 1.000000, val accuracy: 0.066667\nLoss: 0.484698, Train accuracy: 1.000000, val accuracy: 0.066667\n"
    }
   ],
   "source": [
    "# Now, tweak some hyper parameters and make it train to 1.0 accuracy in 20 epochs or less\n",
    "\n",
    "model = TwoLayerNet(n_input = train_X.shape[1], n_output = 10, hidden_layer_size = 100, reg = 1e-1)\n",
    "dataset = Dataset(train_X[:data_size], train_y[:data_size], val_X[:data_size], val_y[:data_size])\n",
    "# TODO: Change any hyperparamers or optimizators to reach training accuracy in 20 epochs\n",
    "trainer = Trainer(model, dataset, SGD(), learning_rate=3e-1, num_epochs=20, batch_size=5)\n",
    "\n",
    "loss_history, train_history, val_history = trainer.fit()"
   ]
  },
  {
   "cell_type": "markdown",
   "metadata": {},
   "source": [
    "# Итак, основное мероприятие!\n",
    "\n",
    "Натренируйте лучшую нейросеть! Можно добавлять и изменять параметры, менять количество нейронов в слоях сети и как угодно экспериментировать. \n",
    "\n",
    "Добейтесь точности лучше **60%** на validation set."
   ]
  },
  {
   "cell_type": "code",
   "execution_count": 4,
   "metadata": {},
   "outputs": [
    {
     "name": "stdout",
     "output_type": "stream",
     "text": "2, val accuracy: 0.751000\nLoss: 0.658187, Train accuracy: 0.858556, val accuracy: 0.750000\nLoss: 0.465816, Train accuracy: 0.862000, val accuracy: 0.749000\nLoss: 0.322529, Train accuracy: 0.854778, val accuracy: 0.745000\nLoss: 0.375357, Train accuracy: 0.866111, val accuracy: 0.748000\nLoss: 0.465149, Train accuracy: 0.863444, val accuracy: 0.745000\nLoss: 0.312607, Train accuracy: 0.864889, val accuracy: 0.751000\nLoss: 0.592114, Train accuracy: 0.872222, val accuracy: 0.750000\nLoss: 0.497373, Train accuracy: 0.865778, val accuracy: 0.750000\nLoss: 0.530872, Train accuracy: 0.872556, val accuracy: 0.750000\nLoss: 0.536311, Train accuracy: 0.878778, val accuracy: 0.753000\nLoss: 0.389098, Train accuracy: 0.878778, val accuracy: 0.750000\nLoss: 0.784844, Train accuracy: 0.880444, val accuracy: 0.746000\nLoss: 0.468745, Train accuracy: 0.877000, val accuracy: 0.745000\nLoss: 0.528583, Train accuracy: 0.877333, val accuracy: 0.755000\nLoss: 0.375031, Train accuracy: 0.881444, val accuracy: 0.746000\nLoss: 0.521482, Train accuracy: 0.879222, val accuracy: 0.747000\nLoss: 0.420018, Train accuracy: 0.884556, val accuracy: 0.754000\nLoss: 0.444158, Train accuracy: 0.888333, val accuracy: 0.754000\nLoss: 0.524125, Train accuracy: 0.884222, val accuracy: 0.749000\nLoss: 0.477245, Train accuracy: 0.889667, val accuracy: 0.758000\nLoss: 0.356566, Train accuracy: 0.890667, val accuracy: 0.760000\nLoss: 0.385094, Train accuracy: 0.895111, val accuracy: 0.754000\nLoss: 0.476478, Train accuracy: 0.887111, val accuracy: 0.747000\nLoss: 0.404315, Train accuracy: 0.893000, val accuracy: 0.753000\nLoss: 0.432029, Train accuracy: 0.897556, val accuracy: 0.751000\nLoss: 0.397560, Train accuracy: 0.895444, val accuracy: 0.746000\nLoss: 0.569141, Train accuracy: 0.898667, val accuracy: 0.760000\nLoss: 0.275163, Train accuracy: 0.901000, val accuracy: 0.758000\nLoss: 0.247888, Train accuracy: 0.898000, val accuracy: 0.754000\nLoss: 0.471484, Train accuracy: 0.900778, val accuracy: 0.751000\nLoss: 0.353876, Train accuracy: 0.901889, val accuracy: 0.760000\nLoss: 0.432255, Train accuracy: 0.902667, val accuracy: 0.755000\nLoss: 0.240431, Train accuracy: 0.904000, val accuracy: 0.757000\nLoss: 0.266314, Train accuracy: 0.900889, val accuracy: 0.754000\nLoss: 0.270936, Train accuracy: 0.905000, val accuracy: 0.755000\nLoss: 0.324648, Train accuracy: 0.908556, val accuracy: 0.758000\nLoss: 0.181807, Train accuracy: 0.906667, val accuracy: 0.753000\nLoss: 0.294483, Train accuracy: 0.911111, val accuracy: 0.763000\nLoss: 0.421497, Train accuracy: 0.908000, val accuracy: 0.762000\nLoss: 0.402349, Train accuracy: 0.911556, val accuracy: 0.758000\nLoss: 0.261633, Train accuracy: 0.911333, val accuracy: 0.763000\nLoss: 0.247588, Train accuracy: 0.909333, val accuracy: 0.749000\nLoss: 0.350832, Train accuracy: 0.915000, val accuracy: 0.765000\nLoss: 0.332898, Train accuracy: 0.916000, val accuracy: 0.764000\nLoss: 0.315805, Train accuracy: 0.916111, val accuracy: 0.754000\nLoss: 0.415580, Train accuracy: 0.918222, val accuracy: 0.758000\nLoss: 0.232392, Train accuracy: 0.916556, val accuracy: 0.748000\nLoss: 0.387741, Train accuracy: 0.919222, val accuracy: 0.759000\nLoss: 0.499388, Train accuracy: 0.921000, val accuracy: 0.766000\nLoss: 0.440582, Train accuracy: 0.922000, val accuracy: 0.758000\nLoss: 0.368172, Train accuracy: 0.919444, val accuracy: 0.764000\nLoss: 0.406010, Train accuracy: 0.925000, val accuracy: 0.758000\nLoss: 0.237975, Train accuracy: 0.923889, val accuracy: 0.766000\nLoss: 0.279653, Train accuracy: 0.927000, val accuracy: 0.766000\nLoss: 0.297477, Train accuracy: 0.927778, val accuracy: 0.751000\nLoss: 0.234410, Train accuracy: 0.924111, val accuracy: 0.759000\nLoss: 0.145895, Train accuracy: 0.925778, val accuracy: 0.759000\nLoss: 0.229698, Train accuracy: 0.926667, val accuracy: 0.760000\nLoss: 0.370354, Train accuracy: 0.930111, val accuracy: 0.759000\nLoss: 0.145762, Train accuracy: 0.927889, val accuracy: 0.753000\nLoss: 0.204755, Train accuracy: 0.927111, val accuracy: 0.756000\nLoss: 0.198932, Train accuracy: 0.926333, val accuracy: 0.759000\nLoss: 0.290754, Train accuracy: 0.933778, val accuracy: 0.764000\nLoss: 0.196060, Train accuracy: 0.928444, val accuracy: 0.757000\nLoss: 0.180927, Train accuracy: 0.936556, val accuracy: 0.763000\nLoss: 0.346682, Train accuracy: 0.935778, val accuracy: 0.763000\nLoss: 0.505062, Train accuracy: 0.936444, val accuracy: 0.764000\nLoss: 0.318446, Train accuracy: 0.936556, val accuracy: 0.765000\nLoss: 0.286030, Train accuracy: 0.937444, val accuracy: 0.764000\nLoss: 0.263031, Train accuracy: 0.938111, val accuracy: 0.760000\nLoss: 0.287235, Train accuracy: 0.937889, val accuracy: 0.767000\nLoss: 0.266759, Train accuracy: 0.936000, val accuracy: 0.762000\nLoss: 0.236085, Train accuracy: 0.936778, val accuracy: 0.761000\nLoss: 0.527232, Train accuracy: 0.940000, val accuracy: 0.765000\nLoss: 0.225989, Train accuracy: 0.933111, val accuracy: 0.759000\nLoss: 0.360063, Train accuracy: 0.942889, val accuracy: 0.762000\nLoss: 0.279381, Train accuracy: 0.945000, val accuracy: 0.761000\nLoss: 0.341408, Train accuracy: 0.942444, val accuracy: 0.761000\nLoss: 0.254906, Train accuracy: 0.943667, val accuracy: 0.761000\nLoss: 0.164128, Train accuracy: 0.940667, val accuracy: 0.762000\nLoss: 0.192951, Train accuracy: 0.946111, val accuracy: 0.768000\nLoss: 0.278011, Train accuracy: 0.946778, val accuracy: 0.758000\nLoss: 0.184145, Train accuracy: 0.948333, val accuracy: 0.755000\nLoss: 0.212398, Train accuracy: 0.945889, val accuracy: 0.757000\nLoss: 0.230906, Train accuracy: 0.948222, val accuracy: 0.770000\nLoss: 0.312785, Train accuracy: 0.951556, val accuracy: 0.767000\nLoss: 0.216924, Train accuracy: 0.950889, val accuracy: 0.763000\nLoss: 0.184536, Train accuracy: 0.947556, val accuracy: 0.766000\nLoss: 0.290345, Train accuracy: 0.951111, val accuracy: 0.773000\nLoss: 0.148219, Train accuracy: 0.945222, val accuracy: 0.759000\nLoss: 0.230931, Train accuracy: 0.953000, val accuracy: 0.769000\nLoss: 0.484887, Train accuracy: 0.954111, val accuracy: 0.758000\nLoss: 0.230409, Train accuracy: 0.950222, val accuracy: 0.757000\nLoss: 0.089893, Train accuracy: 0.952778, val accuracy: 0.760000\nLoss: 0.156660, Train accuracy: 0.957000, val accuracy: 0.767000\nLoss: 0.241121, Train accuracy: 0.957556, val accuracy: 0.769000\nLoss: 0.238582, Train accuracy: 0.954889, val accuracy: 0.763000\nLoss: 0.506412, Train accuracy: 0.953222, val accuracy: 0.769000\nLoss: 0.112541, Train accuracy: 0.956556, val accuracy: 0.765000\nLoss: 0.341950, Train accuracy: 0.958333, val accuracy: 0.768000\nLoss: 0.156088, Train accuracy: 0.955111, val accuracy: 0.768000\nLoss: 0.219809, Train accuracy: 0.958667, val accuracy: 0.768000\nLoss: 0.300758, Train accuracy: 0.958000, val accuracy: 0.770000\nLoss: 0.130868, Train accuracy: 0.960667, val accuracy: 0.761000\nLoss: 0.183010, Train accuracy: 0.960889, val accuracy: 0.762000\n*** Trainging with learning_rate=0.0031622776601683794, learning_rate_decay=0.999, hidden_layer_size=128\nLoss: 2.252358, Train accuracy: 0.196667, val accuracy: 0.206000\nLoss: 2.287486, Train accuracy: 0.196667, val accuracy: 0.206000\nLoss: 2.166538, Train accuracy: 0.196667, val accuracy: 0.206000\nLoss: 2.169848, Train accuracy: 0.196667, val accuracy: 0.206000\nLoss: 2.200835, Train accuracy: 0.196667, val accuracy: 0.206000\nLoss: 2.220926, Train accuracy: 0.196667, val accuracy: 0.206000\nLoss: 2.103084, Train accuracy: 0.196667, val accuracy: 0.206000\nLoss: 2.133249, Train accuracy: 0.196667, val accuracy: 0.206000\nLoss: 2.200223, Train accuracy: 0.200333, val accuracy: 0.212000\nLoss: 2.167117, Train accuracy: 0.229889, val accuracy: 0.238000\nLoss: 2.186797, Train accuracy: 0.252556, val accuracy: 0.252000\nLoss: 2.024169, Train accuracy: 0.270222, val accuracy: 0.269000\nLoss: 2.131472, Train accuracy: 0.281111, val accuracy: 0.283000\nLoss: 1.965355, Train accuracy: 0.298111, val accuracy: 0.306000\nLoss: 1.935437, Train accuracy: 0.340444, val accuracy: 0.349000\nLoss: 1.998679, Train accuracy: 0.379333, val accuracy: 0.371000\nLoss: 1.749734, Train accuracy: 0.411556, val accuracy: 0.394000\nLoss: 1.607852, Train accuracy: 0.435889, val accuracy: 0.414000\nLoss: 1.579356, Train accuracy: 0.449000, val accuracy: 0.444000\nLoss: 1.470366, Train accuracy: 0.477444, val accuracy: 0.469000\nLoss: 1.476117, Train accuracy: 0.496000, val accuracy: 0.500000\nLoss: 1.441159, Train accuracy: 0.523778, val accuracy: 0.518000\nLoss: 1.515773, Train accuracy: 0.544333, val accuracy: 0.532000\nLoss: 1.254522, Train accuracy: 0.561778, val accuracy: 0.543000\nLoss: 1.332301, Train accuracy: 0.583667, val accuracy: 0.556000\nLoss: 1.273411, Train accuracy: 0.596000, val accuracy: 0.574000\nLoss: 1.372776, Train accuracy: 0.614444, val accuracy: 0.593000\nLoss: 0.903641, Train accuracy: 0.622111, val accuracy: 0.609000\nLoss: 1.373535, Train accuracy: 0.623778, val accuracy: 0.609000\nLoss: 1.112038, Train accuracy: 0.650111, val accuracy: 0.632000\nLoss: 1.243909, Train accuracy: 0.656111, val accuracy: 0.644000\nLoss: 1.298554, Train accuracy: 0.662222, val accuracy: 0.638000\nLoss: 1.109300, Train accuracy: 0.673222, val accuracy: 0.654000\nLoss: 1.164365, Train accuracy: 0.677333, val accuracy: 0.659000\nLoss: 1.192841, Train accuracy: 0.684667, val accuracy: 0.669000\nLoss: 0.913019, Train accuracy: 0.689667, val accuracy: 0.664000\nLoss: 1.158996, Train accuracy: 0.693889, val accuracy: 0.681000\nLoss: 1.285143, Train accuracy: 0.703333, val accuracy: 0.676000\nLoss: 1.050636, Train accuracy: 0.703667, val accuracy: 0.684000\nLoss: 0.875019, Train accuracy: 0.711444, val accuracy: 0.686000\nLoss: 0.723445, Train accuracy: 0.714889, val accuracy: 0.691000\nLoss: 0.904730, Train accuracy: 0.720222, val accuracy: 0.689000\nLoss: 1.077702, Train accuracy: 0.716667, val accuracy: 0.698000\nLoss: 0.811049, Train accuracy: 0.728444, val accuracy: 0.696000\nLoss: 0.964821, Train accuracy: 0.735444, val accuracy: 0.703000\nLoss: 1.170852, Train accuracy: 0.734889, val accuracy: 0.700000\nLoss: 1.090726, Train accuracy: 0.744556, val accuracy: 0.720000\nLoss: 0.939239, Train accuracy: 0.745333, val accuracy: 0.708000\nLoss: 1.123973, Train accuracy: 0.748667, val accuracy: 0.713000\nLoss: 0.883409, Train accuracy: 0.753889, val accuracy: 0.706000\nLoss: 0.856516, Train accuracy: 0.753667, val accuracy: 0.708000\nLoss: 0.414811, Train accuracy: 0.759889, val accuracy: 0.717000\nLoss: 0.900403, Train accuracy: 0.763556, val accuracy: 0.713000\nLoss: 0.677572, Train accuracy: 0.766000, val accuracy: 0.715000\nLoss: 0.553693, Train accuracy: 0.769778, val accuracy: 0.725000\nLoss: 0.792527, Train accuracy: 0.768667, val accuracy: 0.715000\nLoss: 0.539712, Train accuracy: 0.775333, val accuracy: 0.714000\nLoss: 0.658283, Train accuracy: 0.780111, val accuracy: 0.722000\nLoss: 0.896908, Train accuracy: 0.777778, val accuracy: 0.726000\nLoss: 0.742144, Train accuracy: 0.785556, val accuracy: 0.721000\nLoss: 0.939462, Train accuracy: 0.785556, val accuracy: 0.722000\nLoss: 0.794526, Train accuracy: 0.795000, val accuracy: 0.735000\nLoss: 1.017921, Train accuracy: 0.792111, val accuracy: 0.718000\nLoss: 0.485192, Train accuracy: 0.797778, val accuracy: 0.725000\nLoss: 0.665429, Train accuracy: 0.801222, val accuracy: 0.730000\nLoss: 0.738810, Train accuracy: 0.798556, val accuracy: 0.729000\nLoss: 0.736156, Train accuracy: 0.810222, val accuracy: 0.730000\nLoss: 0.664937, Train accuracy: 0.805556, val accuracy: 0.740000\nLoss: 0.687379, Train accuracy: 0.812333, val accuracy: 0.740000\nLoss: 0.567853, Train accuracy: 0.816889, val accuracy: 0.732000\nLoss: 0.678258, Train accuracy: 0.819667, val accuracy: 0.739000\nLoss: 0.639669, Train accuracy: 0.821667, val accuracy: 0.729000\nLoss: 0.758754, Train accuracy: 0.821000, val accuracy: 0.730000\nLoss: 0.893365, Train accuracy: 0.825667, val accuracy: 0.742000\nLoss: 0.975773, Train accuracy: 0.828778, val accuracy: 0.737000\nLoss: 0.591061, Train accuracy: 0.827444, val accuracy: 0.736000\nLoss: 0.451436, Train accuracy: 0.833667, val accuracy: 0.745000\nLoss: 0.417683, Train accuracy: 0.829667, val accuracy: 0.745000\nLoss: 0.473908, Train accuracy: 0.834889, val accuracy: 0.732000\nLoss: 0.513332, Train accuracy: 0.836778, val accuracy: 0.743000\nLoss: 0.460306, Train accuracy: 0.840333, val accuracy: 0.742000\nLoss: 0.563149, Train accuracy: 0.842222, val accuracy: 0.750000\nLoss: 0.764701, Train accuracy: 0.842667, val accuracy: 0.750000\nLoss: 0.678930, Train accuracy: 0.848333, val accuracy: 0.745000\nLoss: 0.629813, Train accuracy: 0.846889, val accuracy: 0.742000\nLoss: 0.591232, Train accuracy: 0.851222, val accuracy: 0.745000\nLoss: 0.431641, Train accuracy: 0.851667, val accuracy: 0.744000\nLoss: 0.594838, Train accuracy: 0.854889, val accuracy: 0.746000\nLoss: 0.714013, Train accuracy: 0.860333, val accuracy: 0.741000\nLoss: 0.832353, Train accuracy: 0.862667, val accuracy: 0.752000\nLoss: 0.503775, Train accuracy: 0.861556, val accuracy: 0.741000\nLoss: 0.383508, Train accuracy: 0.861000, val accuracy: 0.748000\nLoss: 0.404755, Train accuracy: 0.865000, val accuracy: 0.751000\nLoss: 0.371992, Train accuracy: 0.862333, val accuracy: 0.744000\nLoss: 0.446016, Train accuracy: 0.871111, val accuracy: 0.761000\nLoss: 0.619305, Train accuracy: 0.869000, val accuracy: 0.745000\nLoss: 0.400236, Train accuracy: 0.872444, val accuracy: 0.742000\nLoss: 0.634622, Train accuracy: 0.872667, val accuracy: 0.756000\nLoss: 0.379694, Train accuracy: 0.878556, val accuracy: 0.746000\nLoss: 0.455939, Train accuracy: 0.877333, val accuracy: 0.741000\nLoss: 0.495567, Train accuracy: 0.880333, val accuracy: 0.755000\nLoss: 0.454614, Train accuracy: 0.882556, val accuracy: 0.753000\nLoss: 0.399263, Train accuracy: 0.883667, val accuracy: 0.752000\nLoss: 0.524492, Train accuracy: 0.882222, val accuracy: 0.747000\nLoss: 0.554149, Train accuracy: 0.885556, val accuracy: 0.755000\nLoss: 0.373978, Train accuracy: 0.879444, val accuracy: 0.748000\nLoss: 0.244116, Train accuracy: 0.887667, val accuracy: 0.758000\nLoss: 0.331413, Train accuracy: 0.891444, val accuracy: 0.756000\nLoss: 0.477613, Train accuracy: 0.887889, val accuracy: 0.761000\nLoss: 0.424205, Train accuracy: 0.894222, val accuracy: 0.754000\nLoss: 0.533800, Train accuracy: 0.896667, val accuracy: 0.757000\nLoss: 0.421316, Train accuracy: 0.895556, val accuracy: 0.747000\nLoss: 0.454439, Train accuracy: 0.900556, val accuracy: 0.760000\nLoss: 0.379707, Train accuracy: 0.898667, val accuracy: 0.759000\nLoss: 0.681924, Train accuracy: 0.902667, val accuracy: 0.751000\nLoss: 0.414384, Train accuracy: 0.904000, val accuracy: 0.750000\nLoss: 0.383763, Train accuracy: 0.903556, val accuracy: 0.758000\nLoss: 0.523625, Train accuracy: 0.904222, val accuracy: 0.751000\nLoss: 0.569962, Train accuracy: 0.906000, val accuracy: 0.756000\nLoss: 0.325296, Train accuracy: 0.905111, val accuracy: 0.755000\nLoss: 0.252426, Train accuracy: 0.906222, val accuracy: 0.754000\nLoss: 0.365807, Train accuracy: 0.907889, val accuracy: 0.754000\nLoss: 0.282247, Train accuracy: 0.907889, val accuracy: 0.753000\nLoss: 0.502604, Train accuracy: 0.909333, val accuracy: 0.754000\nLoss: 0.508312, Train accuracy: 0.914111, val accuracy: 0.753000\nLoss: 0.551220, Train accuracy: 0.914667, val accuracy: 0.757000\nLoss: 0.417527, Train accuracy: 0.916667, val accuracy: 0.757000\nLoss: 0.158353, Train accuracy: 0.919333, val accuracy: 0.750000\nLoss: 0.448052, Train accuracy: 0.918222, val accuracy: 0.754000\nLoss: 0.305864, Train accuracy: 0.920444, val accuracy: 0.756000\nLoss: 0.256920, Train accuracy: 0.921111, val accuracy: 0.753000\nLoss: 0.559441, Train accuracy: 0.923556, val accuracy: 0.751000\nLoss: 0.407730, Train accuracy: 0.923111, val accuracy: 0.758000\nLoss: 0.381099, Train accuracy: 0.923222, val accuracy: 0.756000\nLoss: 0.322760, Train accuracy: 0.920111, val accuracy: 0.760000\nLoss: 0.483266, Train accuracy: 0.921444, val accuracy: 0.759000\nLoss: 0.363266, Train accuracy: 0.924667, val accuracy: 0.751000\nLoss: 0.359627, Train accuracy: 0.927222, val accuracy: 0.753000\nLoss: 0.275835, Train accuracy: 0.926556, val accuracy: 0.763000\nLoss: 0.207853, Train accuracy: 0.926889, val accuracy: 0.752000\nLoss: 0.218750, Train accuracy: 0.931556, val accuracy: 0.756000\nLoss: 0.203505, Train accuracy: 0.932333, val accuracy: 0.754000\nLoss: 0.312418, Train accuracy: 0.934889, val accuracy: 0.749000\nLoss: 0.359525, Train accuracy: 0.932556, val accuracy: 0.759000\nLoss: 0.247133, Train accuracy: 0.930333, val accuracy: 0.757000\nLoss: 0.580117, Train accuracy: 0.937444, val accuracy: 0.760000\nLoss: 0.259008, Train accuracy: 0.934667, val accuracy: 0.758000\nLoss: 0.556316, Train accuracy: 0.934556, val accuracy: 0.759000\nLoss: 0.205428, Train accuracy: 0.935667, val accuracy: 0.757000\nLoss: 0.257231, Train accuracy: 0.938444, val accuracy: 0.756000\nLoss: 0.137569, Train accuracy: 0.933556, val accuracy: 0.760000\nLoss: 0.274355, Train accuracy: 0.940667, val accuracy: 0.760000\nLoss: 0.354315, Train accuracy: 0.939667, val accuracy: 0.759000\nLoss: 0.288790, Train accuracy: 0.943000, val accuracy: 0.755000\nLoss: 0.395370, Train accuracy: 0.941778, val accuracy: 0.754000\nLoss: 0.373329, Train accuracy: 0.943778, val accuracy: 0.755000\nLoss: 0.289846, Train accuracy: 0.943222, val accuracy: 0.754000\nLoss: 0.305605, Train accuracy: 0.943667, val accuracy: 0.760000\nLoss: 0.395900, Train accuracy: 0.945222, val accuracy: 0.755000\nLoss: 0.149010, Train accuracy: 0.948556, val accuracy: 0.756000\nLoss: 0.262223, Train accuracy: 0.944556, val accuracy: 0.766000\nLoss: 0.217767, Train accuracy: 0.947222, val accuracy: 0.756000\nLoss: 0.578987, Train accuracy: 0.948667, val accuracy: 0.755000\nLoss: 0.311250, Train accuracy: 0.948000, val accuracy: 0.760000\nLoss: 0.265973, Train accuracy: 0.949889, val accuracy: 0.757000\nLoss: 0.418856, Train accuracy: 0.950778, val accuracy: 0.752000\nLoss: 0.270927, Train accuracy: 0.948444, val accuracy: 0.760000\nLoss: 0.139522, Train accuracy: 0.949778, val accuracy: 0.753000\nLoss: 0.119721, Train accuracy: 0.951667, val accuracy: 0.753000\nLoss: 0.456110, Train accuracy: 0.953444, val accuracy: 0.758000\nLoss: 0.215793, Train accuracy: 0.954333, val accuracy: 0.760000\nLoss: 0.242087, Train accuracy: 0.953667, val accuracy: 0.754000\nLoss: 0.084037, Train accuracy: 0.955333, val accuracy: 0.758000\nLoss: 0.125122, Train accuracy: 0.954556, val accuracy: 0.761000\nLoss: 0.192589, Train accuracy: 0.956333, val accuracy: 0.758000\nLoss: 0.187438, Train accuracy: 0.957444, val accuracy: 0.758000\nLoss: 0.098292, Train accuracy: 0.958444, val accuracy: 0.759000\nLoss: 0.327034, Train accuracy: 0.958444, val accuracy: 0.758000\nLoss: 0.219782, Train accuracy: 0.957778, val accuracy: 0.758000\nLoss: 0.279269, Train accuracy: 0.955111, val accuracy: 0.754000\nLoss: 0.280006, Train accuracy: 0.960556, val accuracy: 0.757000\nLoss: 0.425195, Train accuracy: 0.958556, val accuracy: 0.754000\nLoss: 0.188761, Train accuracy: 0.962111, val accuracy: 0.754000\nLoss: 0.270949, Train accuracy: 0.958667, val accuracy: 0.759000\nLoss: 0.117410, Train accuracy: 0.958667, val accuracy: 0.763000\nLoss: 0.257278, Train accuracy: 0.961889, val accuracy: 0.753000\nLoss: 0.125655, Train accuracy: 0.963000, val accuracy: 0.758000\nLoss: 0.229452, Train accuracy: 0.964889, val accuracy: 0.759000\nLoss: 0.131932, Train accuracy: 0.961889, val accuracy: 0.753000\nLoss: 0.317494, Train accuracy: 0.965556, val accuracy: 0.761000\nLoss: 0.277231, Train accuracy: 0.965889, val accuracy: 0.754000\nLoss: 0.105389, Train accuracy: 0.963000, val accuracy: 0.755000\nLoss: 0.350015, Train accuracy: 0.962111, val accuracy: 0.753000\nLoss: 0.348351, Train accuracy: 0.966333, val accuracy: 0.764000\nLoss: 0.083612, Train accuracy: 0.967444, val accuracy: 0.747000\nLoss: 0.224574, Train accuracy: 0.965222, val accuracy: 0.760000\nLoss: 0.259551, Train accuracy: 0.967222, val accuracy: 0.757000\nLoss: 0.162328, Train accuracy: 0.966111, val accuracy: 0.760000\nLoss: 0.096957, Train accuracy: 0.967111, val accuracy: 0.760000\nLoss: 0.183249, Train accuracy: 0.967667, val accuracy: 0.762000\nbest validation accuracy achieved: 0.782000\n"
    }
   ],
   "source": [
    "# Let's train the best one-hidden-layer network we can\n",
    "\n",
    "learning_rates = 1e-2\n",
    "reg_strength = 1e-3\n",
    "learning_rate_decay = 0.999\n",
    "hidden_layer_size = 128\n",
    "num_epochs = 200\n",
    "batch_size = 64\n",
    "\n",
    "best_classifier = None\n",
    "best_val_accuracy = None\n",
    "best_learning_rate = None\n",
    "best_learning_rate_decay = None\n",
    "best_hidden_layer_size = None\n",
    "\n",
    "loss_history = []\n",
    "train_history = []\n",
    "val_history = []\n",
    "\n",
    "# TODO find the best hyperparameters to train the network\n",
    "# Don't hesitate to add new values to the arrays above, perform experiments, use any tricks you want\n",
    "# You should expect to get to at least 40% of valudation accuracy\n",
    "# Save loss/train/history of the best classifier to the variables above\n",
    "best_val_accuracy = 0\n",
    "for learning_rate in 10**np.linspace(-2,-2.5,3):\n",
    "    for learning_rate_decay in [1, 0.999]:\n",
    "        for hidden_layer_size in [100, 128]:\n",
    "            print(f\"*** Trainging with learning_rate={learning_rate}, learning_rate_decay={learning_rate_decay}, hidden_layer_size={hidden_layer_size}\")\n",
    "\n",
    "            model = TwoLayerNet(n_input = train_X.shape[1], n_output = 10, hidden_layer_size = hidden_layer_size, reg = reg_strength)\n",
    "            dataset = Dataset(train_X, train_y, val_X, val_y)\n",
    "            trainer = Trainer(model, dataset, MomentumSGD(), learning_rate=learning_rate, learning_rate_decay=learning_rate_decay, num_epochs=num_epochs, batch_size=batch_size)\n",
    "\n",
    "            loss_history, train_history, val_history = trainer.fit()\n",
    "            if best_val_accuracy < val_history[-1]:\n",
    "                best_val_accuracy = val_history[-1]\n",
    "                best_classifier = model\n",
    "                best_learning_rate = learning_rate\n",
    "                best_learning_rate_decay = learning_rate_decay\n",
    "                best_hidden_layer_size = hidden_layer_size\n",
    "\n",
    "print('best validation accuracy achieved: %f' % best_val_accuracy)"
   ]
  },
  {
   "cell_type": "code",
   "execution_count": 5,
   "metadata": {},
   "outputs": [
    {
     "name": "stdout",
     "output_type": "stream",
     "text": "*** Best parameters: learning_rate=0.0031622776601683794, learning_rate_decay=1, hidden_layer_size=128\n"
    }
   ],
   "source": [
    "print(f\"*** Best parameters: learning_rate={best_learning_rate}, learning_rate_decay={best_learning_rate_decay}, hidden_layer_size={best_hidden_layer_size}\")"
   ]
  },
  {
   "cell_type": "code",
   "execution_count": null,
   "metadata": {},
   "outputs": [],
   "source": [
    "plt.figure(figsize=(15, 7))\n",
    "plt.subplot(211)\n",
    "plt.title(\"Loss\")\n",
    "plt.plot(loss_history)\n",
    "plt.subplot(212)\n",
    "plt.title(\"Train/validation accuracy\")\n",
    "plt.plot(train_history)\n",
    "plt.plot(val_history)"
   ]
  },
  {
   "cell_type": "markdown",
   "metadata": {},
   "source": [
    "# Как обычно, посмотрим, как наша лучшая модель работает на тестовых данных"
   ]
  },
  {
   "cell_type": "code",
   "execution_count": 6,
   "metadata": {},
   "outputs": [
    {
     "name": "stdout",
     "output_type": "stream",
     "text": "Neural net test set accuracy: 0.747000\n"
    }
   ],
   "source": [
    "test_pred = best_classifier.predict(test_X)\n",
    "test_accuracy = multiclass_accuracy(test_pred, test_y)\n",
    "print('Neural net test set accuracy: %f' % (test_accuracy, ))"
   ]
  },
  {
   "cell_type": "code",
   "execution_count": null,
   "metadata": {},
   "outputs": [],
   "source": []
  }
 ],
 "metadata": {
  "kernelspec": {
   "display_name": "Python 3",
   "language": "python",
   "name": "python3"
  },
  "language_info": {
   "codemirror_mode": {
    "name": "ipython",
    "version": 3
   },
   "file_extension": ".py",
   "mimetype": "text/x-python",
   "name": "python",
   "nbconvert_exporter": "python",
   "pygments_lexer": "ipython3",
   "version": "3.7.0"
  }
 },
 "nbformat": 4,
 "nbformat_minor": 2
}